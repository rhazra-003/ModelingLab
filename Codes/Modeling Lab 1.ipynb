{
 "cells": [
  {
   "cell_type": "code",
   "execution_count": 1,
   "metadata": {},
   "outputs": [],
   "source": [
    "from shapely.geometry import LineString\n",
    "from matplotlib import pyplot as plt"
   ]
  },
  {
   "cell_type": "code",
   "execution_count": 23,
   "metadata": {},
   "outputs": [
    {
     "data": {
      "image/png": "[encoded data removed]",
      "text/plain": [
       "<Figure size 432x288 with 1 Axes>"
      ]
     },
     "metadata": {
      "needs_background": "light"
     },
     "output_type": "display_data"
    },
    {
     "name": "stdout",
     "output_type": "stream",
     "text": [
      "Boundary points are: \n",
      "0 10.0\n",
      "4.0 2.0\n",
      "1.0 5.0\n",
      "12.0 0\n",
      "Minimum Cost:  13.0\n",
      "At point 1.0 , 5.0\n"
     ]
    }
   ],
   "source": [
    "#line 1\n",
    "\n",
    "x1 = [2, 0]\n",
    "y1 = [0, 10]\n",
    "plt.plot(x1, y1, color = \"red\")\n",
    "\n",
    "#line 2\n",
    "x2 = [6, 0]\n",
    "y2 = [0, 6]\n",
    "plt.plot(x2, y2, color = \"green\")\n",
    "\n",
    "#line 3\n",
    "x3 = [12, 0]\n",
    "y3 = [0, 3]\n",
    "plt.plot(x3, y3, color = \"black\")\n",
    "\n",
    "plt.xlabel('X - Axis')\n",
    "plt.ylabel('Y - Axis')\n",
    "plt.title('Plotting')\n",
    "\n",
    "line1 = LineString([(2, 0), (0, 10)])\n",
    "line2 = LineString([(6, 0), (0, 6)])\n",
    "line3 = LineString([(12,0), (0,3)])\n",
    "\n",
    "intersection1 = line2.intersection(line3)\n",
    "intersection2 = line1.intersection(line2)\n",
    "intersection3 = line3.intersection(line1)\n",
    "\n",
    "plt.plot(0, 10, 'b*')\n",
    "plt.plot(12, 0, 'r*')\n",
    "\n",
    "p1, q1 = intersection1.xy\n",
    "p2, q2 = intersection2.xy\n",
    "p3, q3 = intersection3.xy\n",
    "\n",
    "plt.plot(*intersection1.xy, 'go')\n",
    "plt.plot(*intersection2.xy, 'go')\n",
    "plt.plot(*intersection3.xy, 'go')\n",
    "\n",
    "x1=[]\n",
    "y1=[]\n",
    "x2=[]\n",
    "y2=[]\n",
    "x3=[]\n",
    "y3=[]\n",
    "\n",
    "x1.append(0)\n",
    "x1.append(p2[0])\n",
    "y1.append(10)\n",
    "y1.append(q2[0])\n",
    "x2.append(p2[0])\n",
    "x2.append(p1[0])\n",
    "y2.append(q2[0])\n",
    "y2.append(q1[0])\n",
    "x3.append(p1[0])\n",
    "x3.append(12)\n",
    "y3.append(q1[0])\n",
    "y3.append(0)\n",
    "\n",
    "plt.fill_between(x1, y1, 10, color = 'blue')\n",
    "plt.fill_between(x2, y2, 10, color = 'blue')\n",
    "plt.fill_between(x3, y3, 10, color = 'blue')\n",
    "\n",
    "plt.show()\n",
    "\n",
    "print(\"Boundary points are: \")\n",
    "print(0, 10.0)\n",
    "print(p1[0], q1[0])\n",
    "print(p2[0], q2[0])\n",
    "print(12.0, 0)\n",
    "\n",
    "cost=[]\n",
    "\n",
    "m1=[0, p1[0], p2[0], 12]\n",
    "m2=[10.0, q1[0], q2[0], 0]\n",
    "\n",
    "for i in range(4):\n",
    "    cost.append(3*m1[i] + 2*m2[i])\n",
    "\n",
    "min_cost = min(cost)\n",
    "\n",
    "print(\"Minimum Cost: \", min_cost)\n",
    "\n",
    "ind=cost.index(min_cost)\n",
    "a=m1[ind]\n",
    "b=m2[ind]\n",
    "\n",
    "print(\"At point\",a,\",\",b)"
   ]
  },
  {
   "cell_type": "code",
   "execution_count": 22,
   "metadata": {},
   "outputs": [
    {
     "name": "stdout",
     "output_type": "stream",
     "text": [
      "Boundary points are:\n",
      "150.0 0\n",
      "150.0 200.0\n",
      "125.0 250.0\n",
      "0 250.0\n",
      "Maximum profit is:  2250\n",
      "at point  125 , 250\n"
     ]
    },
    {
     "data": {
      "image/png": "[encoded data removed]",
      "text/plain": [
       "<Figure size 432x288 with 1 Axes>"
      ]
     },
     "metadata": {
      "needs_background": "light"
     },
     "output_type": "display_data"
    }
   ],
   "source": [
    "x1=[0, 250]\n",
    "y1=[500, 0]\n",
    "x2=[150, 150]\n",
    "y2=[0, 500]\n",
    "x3=[0, 250]\n",
    "y3=[250, 250]\n",
    "\n",
    "plt.xlabel('X - Axis')\n",
    "plt.ylabel('Y - Axis')\n",
    "plt.title('Plotting')\n",
    "\n",
    "plt.plot(x2, y2, color = \"red\")\n",
    "plt.plot(x1, y1, color = \"black\")\n",
    "plt.plot(x3, y3, color = \"blue\")\n",
    "\n",
    "#line 1\n",
    "line1 = LineString([(0, 500), (250, 0)])\n",
    "\n",
    "#line 2\n",
    "line2 = LineString([(150, 0), (150, 500)])\n",
    "\n",
    "#line 3\n",
    "line3 = LineString([(0, 250), (250, 250)])\n",
    "\n",
    "intersection1 = line1.intersection(line2)\n",
    "intersection2 = line2.intersection(line3)\n",
    "intersection3 = line3.intersection(line1)\n",
    "\n",
    "p1, q1 = intersection1.xy\n",
    "p2, q2 = intersection2.xy\n",
    "p3, q3 = intersection3.xy\n",
    "\n",
    "x1 = [0, p3[0]]\n",
    "y1 = [250, q3[0]]\n",
    "x2 = [p3[0], p1[0]]\n",
    "y2 = [q3[0], q1[0]]\n",
    "\n",
    "plt.plot(*intersection1.xy, 'go')\n",
    "plt.plot(*intersection2.xy, 'go')\n",
    "plt.plot(*intersection3.xy, 'go')\n",
    "\n",
    "plt.plot(0, 250, 'b*')\n",
    "plt.plot(150, 0, 'r*')\n",
    "\n",
    "plt.fill_between(x1, y1, color = 'grey')\n",
    "plt.fill_between(x2, y2, color = 'grey')\n",
    "\n",
    "print(\"Boundary points are:\")\n",
    "print(150.0, 0)\n",
    "print(p1[0], q1[0])\n",
    "print(p3[0], q3[0])\n",
    "print(0, 250.0)\n",
    "\n",
    "#for calculating maximum profit\n",
    "m1 = [0, 125, 150, 150]\n",
    "m2 = [250, 250, 200, 0]\n",
    "\n",
    "total_profit=[]\n",
    "\n",
    "for i in range(4):\n",
    "    total_profit.append(8*m1[i] + 5*m2[i])\n",
    "    \n",
    "max_profit = max(total_profit)\n",
    "\n",
    "print(\"Maximum profit is: \",max_profit)\n",
    "\n",
    "ind = total_profit.index(max_profit)\n",
    "\n",
    "a = m1[ind]\n",
    "b = m2[ind]\n",
    "\n",
    "print(\"at point \",a,\",\",b)"
   ]
  }
 ],
 "metadata": {
  "kernelspec": {
   "display_name": "Python 3",
   "language": "python",
   "name": "python3"
  },
  "language_info": {
   "codemirror_mode": {
    "name": "ipython",
    "version": 3
   },
   "file_extension": ".py",
   "mimetype": "text/x-python",
   "name": "python",
   "nbconvert_exporter": "python",
   "pygments_lexer": "ipython3",
   "version": "3.7.4"
  }
 },
 "nbformat": 4,
 "nbformat_minor": 2
}
